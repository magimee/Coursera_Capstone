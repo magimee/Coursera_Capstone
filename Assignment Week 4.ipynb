{
 "cells": [
  {
   "cell_type": "markdown",
   "metadata": {},
   "source": [
    "1. A description of the problem and a discussion of the background"
   ]
  },
  {
   "cell_type": "markdown",
   "metadata": {},
   "source": [
    "The problem: You have been tasked to find the best cities within Los Angeles California for a group of business men who want to start their business service."
   ]
  },
  {
   "cell_type": "markdown",
   "metadata": {},
   "source": [
    "Hence Los Angeles location data will be used to cluster the data where business services are the most prevelant and thriving"
   ]
  },
  {
   "cell_type": "markdown",
   "metadata": {},
   "source": [
    "2. A description of the data and how it will be used to solve the problem"
   ]
  },
  {
   "cell_type": "markdown",
   "metadata": {},
   "source": [
    "2 kinds of data will be used, the first is location data consisting of the names of the city of Los Angeles and their zipcodes and the other a list of zipcodes and their respective latitude and longitude."
   ]
  },
  {
   "cell_type": "code",
   "execution_count": 3,
   "metadata": {},
   "outputs": [],
   "source": [
    "import pandas as pd\n",
    "import numpy as np\n",
    "import requests\n",
    "from bs4 import BeautifulSoup"
   ]
  },
  {
   "cell_type": "code",
   "execution_count": 4,
   "metadata": {},
   "outputs": [],
   "source": [
    "la=pd.read_csv('./losangeles.csv')"
   ]
  },
  {
   "cell_type": "code",
   "execution_count": 5,
   "metadata": {},
   "outputs": [
    {
     "data": {
      "text/html": [
       "<div>\n",
       "<style scoped>\n",
       "    .dataframe tbody tr th:only-of-type {\n",
       "        vertical-align: middle;\n",
       "    }\n",
       "\n",
       "    .dataframe tbody tr th {\n",
       "        vertical-align: top;\n",
       "    }\n",
       "\n",
       "    .dataframe thead th {\n",
       "        text-align: right;\n",
       "    }\n",
       "</style>\n",
       "<table border=\"1\" class=\"dataframe\">\n",
       "  <thead>\n",
       "    <tr style=\"text-align: right;\">\n",
       "      <th></th>\n",
       "      <th>LOS ANGELES CITIES</th>\n",
       "      <th>ZIP CODES</th>\n",
       "    </tr>\n",
       "  </thead>\n",
       "  <tbody>\n",
       "    <tr>\n",
       "      <th>0</th>\n",
       "      <td>Acton</td>\n",
       "      <td>90001</td>\n",
       "    </tr>\n",
       "    <tr>\n",
       "      <th>1</th>\n",
       "      <td>Agoura Hills</td>\n",
       "      <td>90002</td>\n",
       "    </tr>\n",
       "    <tr>\n",
       "      <th>2</th>\n",
       "      <td>Alhambra</td>\n",
       "      <td>90003</td>\n",
       "    </tr>\n",
       "    <tr>\n",
       "      <th>3</th>\n",
       "      <td>Alondra Park</td>\n",
       "      <td>90004</td>\n",
       "    </tr>\n",
       "    <tr>\n",
       "      <th>4</th>\n",
       "      <td>Altadena</td>\n",
       "      <td>90005</td>\n",
       "    </tr>\n",
       "    <tr>\n",
       "      <th>...</th>\n",
       "      <td>...</td>\n",
       "      <td>...</td>\n",
       "    </tr>\n",
       "    <tr>\n",
       "      <th>82</th>\n",
       "      <td>Walnut</td>\n",
       "      <td>90083</td>\n",
       "    </tr>\n",
       "    <tr>\n",
       "      <th>83</th>\n",
       "      <td>West Covina</td>\n",
       "      <td>90084</td>\n",
       "    </tr>\n",
       "    <tr>\n",
       "      <th>84</th>\n",
       "      <td>West Hollywood</td>\n",
       "      <td>90086</td>\n",
       "    </tr>\n",
       "    <tr>\n",
       "      <th>85</th>\n",
       "      <td>Westlake Village</td>\n",
       "      <td>90087</td>\n",
       "    </tr>\n",
       "    <tr>\n",
       "      <th>86</th>\n",
       "      <td>Whittier</td>\n",
       "      <td>90088</td>\n",
       "    </tr>\n",
       "  </tbody>\n",
       "</table>\n",
       "<p>87 rows × 2 columns</p>\n",
       "</div>"
      ],
      "text/plain": [
       "   LOS ANGELES CITIES  ZIP CODES\n",
       "0               Acton      90001\n",
       "1        Agoura Hills      90002\n",
       "2            Alhambra      90003\n",
       "3        Alondra Park      90004\n",
       "4            Altadena      90005\n",
       "..                ...        ...\n",
       "82             Walnut      90083\n",
       "83        West Covina      90084\n",
       "84     West Hollywood      90086\n",
       "85   Westlake Village      90087\n",
       "86           Whittier      90088\n",
       "\n",
       "[87 rows x 2 columns]"
      ]
     },
     "execution_count": 5,
     "metadata": {},
     "output_type": "execute_result"
    }
   ],
   "source": [
    "la"
   ]
  },
  {
   "cell_type": "code",
   "execution_count": 6,
   "metadata": {},
   "outputs": [
    {
     "name": "stdout",
     "output_type": "stream",
     "text": [
      "<class 'pandas.core.frame.DataFrame'>\n"
     ]
    }
   ],
   "source": [
    "print(type(la))\n",
    "geodf = pd.read_csv('./Geospatial_Coordinates.csv')\n",
    "geodf.columns = ['GeoPostCode','Latitude', 'Longitude']"
   ]
  },
  {
   "cell_type": "code",
   "execution_count": 7,
   "metadata": {},
   "outputs": [
    {
     "name": "stdout",
     "output_type": "stream",
     "text": [
      "   GeoPostCode  Latitude  Longitude\n",
      "0      90001.0   34.4700  -118.1967\n",
      "1      90002.0   34.1533  -118.7617\n",
      "2      90003.0   33.7866  -118.2987\n",
      "3      90004.0   33.8895  -118.3309\n",
      "4      90005.0   34.1902  -118.1313\n",
      "     GeoPostCode  Latitude  Longitude\n",
      "993          NaN       NaN        NaN\n",
      "994          NaN       NaN        NaN\n",
      "995          NaN       NaN        NaN\n",
      "996          NaN       NaN        NaN\n",
      "997          NaN       NaN        NaN\n"
     ]
    }
   ],
   "source": [
    "print(geodf.head())\n",
    "print(geodf.tail())"
   ]
  },
  {
   "cell_type": "code",
   "execution_count": 8,
   "metadata": {},
   "outputs": [],
   "source": [
    "geodf = geodf.dropna(axis=0)"
   ]
  },
  {
   "cell_type": "code",
   "execution_count": 9,
   "metadata": {},
   "outputs": [
    {
     "data": {
      "text/html": [
       "<div>\n",
       "<style scoped>\n",
       "    .dataframe tbody tr th:only-of-type {\n",
       "        vertical-align: middle;\n",
       "    }\n",
       "\n",
       "    .dataframe tbody tr th {\n",
       "        vertical-align: top;\n",
       "    }\n",
       "\n",
       "    .dataframe thead th {\n",
       "        text-align: right;\n",
       "    }\n",
       "</style>\n",
       "<table border=\"1\" class=\"dataframe\">\n",
       "  <thead>\n",
       "    <tr style=\"text-align: right;\">\n",
       "      <th></th>\n",
       "      <th>GeoPostCode</th>\n",
       "      <th>Latitude</th>\n",
       "      <th>Longitude</th>\n",
       "    </tr>\n",
       "  </thead>\n",
       "  <tbody>\n",
       "    <tr>\n",
       "      <th>0</th>\n",
       "      <td>90001.0</td>\n",
       "      <td>34.4700</td>\n",
       "      <td>-118.1967</td>\n",
       "    </tr>\n",
       "    <tr>\n",
       "      <th>1</th>\n",
       "      <td>90002.0</td>\n",
       "      <td>34.1533</td>\n",
       "      <td>-118.7617</td>\n",
       "    </tr>\n",
       "    <tr>\n",
       "      <th>2</th>\n",
       "      <td>90003.0</td>\n",
       "      <td>33.7866</td>\n",
       "      <td>-118.2987</td>\n",
       "    </tr>\n",
       "    <tr>\n",
       "      <th>3</th>\n",
       "      <td>90004.0</td>\n",
       "      <td>33.8895</td>\n",
       "      <td>-118.3309</td>\n",
       "    </tr>\n",
       "    <tr>\n",
       "      <th>4</th>\n",
       "      <td>90005.0</td>\n",
       "      <td>34.1902</td>\n",
       "      <td>-118.1313</td>\n",
       "    </tr>\n",
       "    <tr>\n",
       "      <th>...</th>\n",
       "      <td>...</td>\n",
       "      <td>...</td>\n",
       "      <td>...</td>\n",
       "    </tr>\n",
       "    <tr>\n",
       "      <th>82</th>\n",
       "      <td>90083.0</td>\n",
       "      <td>34.0203</td>\n",
       "      <td>-117.8653</td>\n",
       "    </tr>\n",
       "    <tr>\n",
       "      <th>83</th>\n",
       "      <td>90084.0</td>\n",
       "      <td>34.0686</td>\n",
       "      <td>-117.9390</td>\n",
       "    </tr>\n",
       "    <tr>\n",
       "      <th>84</th>\n",
       "      <td>90086.0</td>\n",
       "      <td>34.0900</td>\n",
       "      <td>-118.3617</td>\n",
       "    </tr>\n",
       "    <tr>\n",
       "      <th>85</th>\n",
       "      <td>90087.0</td>\n",
       "      <td>34.1466</td>\n",
       "      <td>-118.8074</td>\n",
       "    </tr>\n",
       "    <tr>\n",
       "      <th>86</th>\n",
       "      <td>90088.0</td>\n",
       "      <td>33.9792</td>\n",
       "      <td>-118.0328</td>\n",
       "    </tr>\n",
       "  </tbody>\n",
       "</table>\n",
       "<p>87 rows × 3 columns</p>\n",
       "</div>"
      ],
      "text/plain": [
       "    GeoPostCode  Latitude  Longitude\n",
       "0       90001.0   34.4700  -118.1967\n",
       "1       90002.0   34.1533  -118.7617\n",
       "2       90003.0   33.7866  -118.2987\n",
       "3       90004.0   33.8895  -118.3309\n",
       "4       90005.0   34.1902  -118.1313\n",
       "..          ...       ...        ...\n",
       "82      90083.0   34.0203  -117.8653\n",
       "83      90084.0   34.0686  -117.9390\n",
       "84      90086.0   34.0900  -118.3617\n",
       "85      90087.0   34.1466  -118.8074\n",
       "86      90088.0   33.9792  -118.0328\n",
       "\n",
       "[87 rows x 3 columns]"
      ]
     },
     "execution_count": 9,
     "metadata": {},
     "output_type": "execute_result"
    }
   ],
   "source": [
    "geodf"
   ]
  },
  {
   "cell_type": "code",
   "execution_count": 10,
   "metadata": {},
   "outputs": [
    {
     "data": {
      "text/html": [
       "<div>\n",
       "<style scoped>\n",
       "    .dataframe tbody tr th:only-of-type {\n",
       "        vertical-align: middle;\n",
       "    }\n",
       "\n",
       "    .dataframe tbody tr th {\n",
       "        vertical-align: top;\n",
       "    }\n",
       "\n",
       "    .dataframe thead th {\n",
       "        text-align: right;\n",
       "    }\n",
       "</style>\n",
       "<table border=\"1\" class=\"dataframe\">\n",
       "  <thead>\n",
       "    <tr style=\"text-align: right;\">\n",
       "      <th></th>\n",
       "      <th>LOS ANGELES CITIES</th>\n",
       "      <th>ZIP CODES</th>\n",
       "      <th>Latitude</th>\n",
       "      <th>Longitude</th>\n",
       "    </tr>\n",
       "  </thead>\n",
       "  <tbody>\n",
       "    <tr>\n",
       "      <th>0</th>\n",
       "      <td>Acton</td>\n",
       "      <td>90001</td>\n",
       "      <td>34.4700</td>\n",
       "      <td>-118.1967</td>\n",
       "    </tr>\n",
       "    <tr>\n",
       "      <th>1</th>\n",
       "      <td>Agoura Hills</td>\n",
       "      <td>90002</td>\n",
       "      <td>34.1533</td>\n",
       "      <td>-118.7617</td>\n",
       "    </tr>\n",
       "    <tr>\n",
       "      <th>2</th>\n",
       "      <td>Alhambra</td>\n",
       "      <td>90003</td>\n",
       "      <td>33.7866</td>\n",
       "      <td>-118.2987</td>\n",
       "    </tr>\n",
       "    <tr>\n",
       "      <th>3</th>\n",
       "      <td>Alondra Park</td>\n",
       "      <td>90004</td>\n",
       "      <td>33.8895</td>\n",
       "      <td>-118.3309</td>\n",
       "    </tr>\n",
       "    <tr>\n",
       "      <th>4</th>\n",
       "      <td>Altadena</td>\n",
       "      <td>90005</td>\n",
       "      <td>34.1902</td>\n",
       "      <td>-118.1313</td>\n",
       "    </tr>\n",
       "  </tbody>\n",
       "</table>\n",
       "</div>"
      ],
      "text/plain": [
       "  LOS ANGELES CITIES  ZIP CODES  Latitude  Longitude\n",
       "0              Acton      90001   34.4700  -118.1967\n",
       "1       Agoura Hills      90002   34.1533  -118.7617\n",
       "2           Alhambra      90003   33.7866  -118.2987\n",
       "3       Alondra Park      90004   33.8895  -118.3309\n",
       "4           Altadena      90005   34.1902  -118.1313"
      ]
     },
     "execution_count": 10,
     "metadata": {},
     "output_type": "execute_result"
    }
   ],
   "source": [
    "Concatdf = pd.concat([la,geodf], axis=1)\n",
    "finalgeodf=Concatdf.drop(['GeoPostCode'] , axis=1)\n",
    "finalgeodf.head()"
   ]
  },
  {
   "cell_type": "code",
   "execution_count": null,
   "metadata": {},
   "outputs": [],
   "source": []
  }
 ],
 "metadata": {
  "kernelspec": {
   "display_name": "Python 3",
   "language": "python",
   "name": "python3"
  },
  "language_info": {
   "codemirror_mode": {
    "name": "ipython",
    "version": 3
   },
   "file_extension": ".py",
   "mimetype": "text/x-python",
   "name": "python",
   "nbconvert_exporter": "python",
   "pygments_lexer": "ipython3",
   "version": "3.8.5"
  }
 },
 "nbformat": 4,
 "nbformat_minor": 4
}
